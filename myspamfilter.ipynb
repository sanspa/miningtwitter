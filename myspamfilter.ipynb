{
 "cells": [
  {
   "cell_type": "code",
   "execution_count": 35,
   "metadata": {},
   "outputs": [],
   "source": [
    "import nltk.classify.util\n",
    "from nltk.classify import NaiveBayesClassifier\n",
    "from nltk.tokenize import TweetTokenizer\n",
    "import pandas as pd\n",
    "import os\n",
    "import random"
   ]
  },
  {
   "cell_type": "code",
   "execution_count": 36,
   "metadata": {},
   "outputs": [
    {
     "data": {
      "text/html": [
       "<div>\n",
       "<style scoped>\n",
       "    .dataframe tbody tr th:only-of-type {\n",
       "        vertical-align: middle;\n",
       "    }\n",
       "\n",
       "    .dataframe tbody tr th {\n",
       "        vertical-align: top;\n",
       "    }\n",
       "\n",
       "    .dataframe thead th {\n",
       "        text-align: right;\n",
       "    }\n",
       "</style>\n",
       "<table border=\"1\" class=\"dataframe\">\n",
       "  <thead>\n",
       "    <tr style=\"text-align: right;\">\n",
       "      <th></th>\n",
       "      <th>tweet_id</th>\n",
       "      <th>text</th>\n",
       "      <th>screen_name</th>\n",
       "      <th>time_create</th>\n",
       "      <th>time_grab</th>\n",
       "    </tr>\n",
       "  </thead>\n",
       "  <tbody>\n",
       "    <tr>\n",
       "      <th>0</th>\n",
       "      <td>5.273133e+17</td>\n",
       "      <td>Hai kak, @akukuntum Follow yuk @InfoSehatID  p...</td>\n",
       "      <td>LalaNurlaila14</td>\n",
       "      <td>2014-10-29 11:17:52</td>\n",
       "      <td>2014-11-02 04:33:42</td>\n",
       "    </tr>\n",
       "    <tr>\n",
       "      <th>1</th>\n",
       "      <td>5.273111e+17</td>\n",
       "      <td>Hallo, @sidikwardoyo mau dapat info terbaru se...</td>\n",
       "      <td>LalaNurlaila14</td>\n",
       "      <td>2014-10-29 11:09:08</td>\n",
       "      <td>2014-11-02 04:33:42</td>\n",
       "    </tr>\n",
       "    <tr>\n",
       "      <th>2</th>\n",
       "      <td>5.273068e+17</td>\n",
       "      <td>Hai kak, @rockymengko Follow @InfoSehatID yuk....</td>\n",
       "      <td>LalaNurlaila14</td>\n",
       "      <td>2014-10-29 10:51:55</td>\n",
       "      <td>2014-11-02 04:33:42</td>\n",
       "    </tr>\n",
       "    <tr>\n",
       "      <th>3</th>\n",
       "      <td>5.272998e+17</td>\n",
       "      <td>Hallo, @bunniyun Yuk Follow rame2-- &amp;gt;&amp;gt; @...</td>\n",
       "      <td>LalaNurlaila14</td>\n",
       "      <td>2014-10-29 10:24:06</td>\n",
       "      <td>2014-11-02 04:33:42</td>\n",
       "    </tr>\n",
       "    <tr>\n",
       "      <th>4</th>\n",
       "      <td>5.272953e+17</td>\n",
       "      <td>Hai kak, @FirdaListyani kalo ga keberatan, fol...</td>\n",
       "      <td>LalaNurlaila14</td>\n",
       "      <td>2014-10-29 10:06:01</td>\n",
       "      <td>2014-11-02 04:33:42</td>\n",
       "    </tr>\n",
       "  </tbody>\n",
       "</table>\n",
       "</div>"
      ],
      "text/plain": [
       "       tweet_id                                               text  \\\n",
       "0  5.273133e+17  Hai kak, @akukuntum Follow yuk @InfoSehatID  p...   \n",
       "1  5.273111e+17  Hallo, @sidikwardoyo mau dapat info terbaru se...   \n",
       "2  5.273068e+17  Hai kak, @rockymengko Follow @InfoSehatID yuk....   \n",
       "3  5.272998e+17  Hallo, @bunniyun Yuk Follow rame2-- &gt;&gt; @...   \n",
       "4  5.272953e+17  Hai kak, @FirdaListyani kalo ga keberatan, fol...   \n",
       "\n",
       "      screen_name          time_create            time_grab  \n",
       "0  LalaNurlaila14  2014-10-29 11:17:52  2014-11-02 04:33:42  \n",
       "1  LalaNurlaila14  2014-10-29 11:09:08  2014-11-02 04:33:42  \n",
       "2  LalaNurlaila14  2014-10-29 10:51:55  2014-11-02 04:33:42  \n",
       "3  LalaNurlaila14  2014-10-29 10:24:06  2014-11-02 04:33:42  \n",
       "4  LalaNurlaila14  2014-10-29 10:06:01  2014-11-02 04:33:42  "
      ]
     },
     "execution_count": 36,
     "metadata": {},
     "output_type": "execute_result"
    }
   ],
   "source": [
    "spam_tweets = pd.read_csv('spamtweet.csv', encoding=\"latin-1\")\n",
    "spam_tweets.head()"
   ]
  },
  {
   "cell_type": "code",
   "execution_count": 37,
   "metadata": {},
   "outputs": [
    {
     "data": {
      "text/html": [
       "<div>\n",
       "<style scoped>\n",
       "    .dataframe tbody tr th:only-of-type {\n",
       "        vertical-align: middle;\n",
       "    }\n",
       "\n",
       "    .dataframe tbody tr th {\n",
       "        vertical-align: top;\n",
       "    }\n",
       "\n",
       "    .dataframe thead th {\n",
       "        text-align: right;\n",
       "    }\n",
       "</style>\n",
       "<table border=\"1\" class=\"dataframe\">\n",
       "  <thead>\n",
       "    <tr style=\"text-align: right;\">\n",
       "      <th></th>\n",
       "      <th>text</th>\n",
       "    </tr>\n",
       "  </thead>\n",
       "  <tbody>\n",
       "    <tr>\n",
       "      <th>0</th>\n",
       "      <td>Hai kak, @akukuntum Follow yuk @InfoSehatID  p...</td>\n",
       "    </tr>\n",
       "    <tr>\n",
       "      <th>1</th>\n",
       "      <td>Hallo, @sidikwardoyo mau dapat info terbaru se...</td>\n",
       "    </tr>\n",
       "    <tr>\n",
       "      <th>2</th>\n",
       "      <td>Hai kak, @rockymengko Follow @InfoSehatID yuk....</td>\n",
       "    </tr>\n",
       "    <tr>\n",
       "      <th>3</th>\n",
       "      <td>Hallo, @bunniyun Yuk Follow rame2-- &amp;gt;&amp;gt; @...</td>\n",
       "    </tr>\n",
       "    <tr>\n",
       "      <th>4</th>\n",
       "      <td>Hai kak, @FirdaListyani kalo ga keberatan, fol...</td>\n",
       "    </tr>\n",
       "  </tbody>\n",
       "</table>\n",
       "</div>"
      ],
      "text/plain": [
       "                                                text\n",
       "0  Hai kak, @akukuntum Follow yuk @InfoSehatID  p...\n",
       "1  Hallo, @sidikwardoyo mau dapat info terbaru se...\n",
       "2  Hai kak, @rockymengko Follow @InfoSehatID yuk....\n",
       "3  Hallo, @bunniyun Yuk Follow rame2-- &gt;&gt; @...\n",
       "4  Hai kak, @FirdaListyani kalo ga keberatan, fol..."
      ]
     },
     "execution_count": 37,
     "metadata": {},
     "output_type": "execute_result"
    }
   ],
   "source": [
    "spam_tweets.drop(['tweet_id', 'screen_name', 'time_create', 'time_grab'], axis = 1, inplace=True)\n",
    "spam_tweets.head()"
   ]
  },
  {
   "cell_type": "code",
   "execution_count": 38,
   "metadata": {},
   "outputs": [
    {
     "name": "stdout",
     "output_type": "stream",
     "text": [
      "Hai kak, @akukuntum Follow yuk @InfoSehatID  paling update seputar Kesehatan, menarik dan menambah wawasan :), pasti di Folback!\n"
     ]
    }
   ],
   "source": [
    "spam_text = spam_tweets['text']\n",
    "print(spam_text[0])"
   ]
  },
  {
   "cell_type": "code",
   "execution_count": 39,
   "metadata": {},
   "outputs": [
    {
     "name": "stdout",
     "output_type": "stream",
     "text": [
      "['Hai', 'kak', ',', '@akukuntum', 'Follow', 'yuk', '@InfoSehatID', 'paling', 'update', 'seputar', 'Kesehatan', ',', 'menarik', 'dan', 'menambah', 'wawasan', ':)', ',', 'pasti', 'di', 'Folback', '!']\n"
     ]
    }
   ],
   "source": [
    "tokenizer = TweetTokenizer()\n",
    "tokens = tokenizer.tokenize(spam_text[0])\n",
    "print(tokens)"
   ]
  },
  {
   "cell_type": "code",
   "execution_count": 40,
   "metadata": {},
   "outputs": [
    {
     "data": {
      "text/html": [
       "<div>\n",
       "<style scoped>\n",
       "    .dataframe tbody tr th:only-of-type {\n",
       "        vertical-align: middle;\n",
       "    }\n",
       "\n",
       "    .dataframe tbody tr th {\n",
       "        vertical-align: top;\n",
       "    }\n",
       "\n",
       "    .dataframe thead th {\n",
       "        text-align: right;\n",
       "    }\n",
       "</style>\n",
       "<table border=\"1\" class=\"dataframe\">\n",
       "  <thead>\n",
       "    <tr style=\"text-align: right;\">\n",
       "      <th></th>\n",
       "      <th>tweet_id</th>\n",
       "      <th>screen_name</th>\n",
       "      <th>text</th>\n",
       "      <th>time_create</th>\n",
       "      <th>time_grab</th>\n",
       "    </tr>\n",
       "  </thead>\n",
       "  <tbody>\n",
       "    <tr>\n",
       "      <th>0</th>\n",
       "      <td>968152876794163200</td>\n",
       "      <td>alditaher_indo</td>\n",
       "      <td>kuliner asik punya temen @joandita sukses http...</td>\n",
       "      <td>2018-02-26 15:56:47</td>\n",
       "      <td>2018-02-26 15:57:11</td>\n",
       "    </tr>\n",
       "    <tr>\n",
       "      <th>1</th>\n",
       "      <td>968152526292955136</td>\n",
       "      <td>Top_Dady</td>\n",
       "      <td>Menikmati Kopi Dengan Pemandangan Menakjubkan ...</td>\n",
       "      <td>2018-02-26 15:55:24</td>\n",
       "      <td>2018-02-26 15:57:11</td>\n",
       "    </tr>\n",
       "    <tr>\n",
       "      <th>2</th>\n",
       "      <td>968152496563785730</td>\n",
       "      <td>love_purwokerto</td>\n",
       "      <td>Pusat Wisata Kuliner Pasar Manis Purwokerto ya...</td>\n",
       "      <td>2018-02-26 15:55:17</td>\n",
       "      <td>2018-02-26 15:57:11</td>\n",
       "    </tr>\n",
       "    <tr>\n",
       "      <th>3</th>\n",
       "      <td>968152155289829377</td>\n",
       "      <td>SiskaAndriyant6</td>\n",
       "      <td>Next kuliner jogja aj,#Yogyakarta https://t.co...</td>\n",
       "      <td>2018-02-26 15:53:55</td>\n",
       "      <td>2018-02-26 15:57:11</td>\n",
       "    </tr>\n",
       "    <tr>\n",
       "      <th>4</th>\n",
       "      <td>968151864616169472</td>\n",
       "      <td>ItsAleArgian</td>\n",
       "      <td>Setelah cukup sukses menjual botol-botol uniqu...</td>\n",
       "      <td>2018-02-26 15:52:46</td>\n",
       "      <td>2018-02-26 15:57:11</td>\n",
       "    </tr>\n",
       "  </tbody>\n",
       "</table>\n",
       "</div>"
      ],
      "text/plain": [
       "             tweet_id      screen_name  \\\n",
       "0  968152876794163200   alditaher_indo   \n",
       "1  968152526292955136         Top_Dady   \n",
       "2  968152496563785730  love_purwokerto   \n",
       "3  968152155289829377  SiskaAndriyant6   \n",
       "4  968151864616169472     ItsAleArgian   \n",
       "\n",
       "                                                text          time_create  \\\n",
       "0  kuliner asik punya temen @joandita sukses http...  2018-02-26 15:56:47   \n",
       "1  Menikmati Kopi Dengan Pemandangan Menakjubkan ...  2018-02-26 15:55:24   \n",
       "2  Pusat Wisata Kuliner Pasar Manis Purwokerto ya...  2018-02-26 15:55:17   \n",
       "3  Next kuliner jogja aj,#Yogyakarta https://t.co...  2018-02-26 15:53:55   \n",
       "4  Setelah cukup sukses menjual botol-botol uniqu...  2018-02-26 15:52:46   \n",
       "\n",
       "             time_grab  \n",
       "0  2018-02-26 15:57:11  \n",
       "1  2018-02-26 15:57:11  \n",
       "2  2018-02-26 15:57:11  \n",
       "3  2018-02-26 15:57:11  \n",
       "4  2018-02-26 15:57:11  "
      ]
     },
     "execution_count": 40,
     "metadata": {},
     "output_type": "execute_result"
    }
   ],
   "source": [
    "ham_tweets = pd.read_csv('hamtweets.csv', encoding=\"latin-1\")\n",
    "ham_tweets.head()"
   ]
  },
  {
   "cell_type": "code",
   "execution_count": 41,
   "metadata": {},
   "outputs": [
    {
     "data": {
      "text/html": [
       "<div>\n",
       "<style scoped>\n",
       "    .dataframe tbody tr th:only-of-type {\n",
       "        vertical-align: middle;\n",
       "    }\n",
       "\n",
       "    .dataframe tbody tr th {\n",
       "        vertical-align: top;\n",
       "    }\n",
       "\n",
       "    .dataframe thead th {\n",
       "        text-align: right;\n",
       "    }\n",
       "</style>\n",
       "<table border=\"1\" class=\"dataframe\">\n",
       "  <thead>\n",
       "    <tr style=\"text-align: right;\">\n",
       "      <th></th>\n",
       "      <th>text</th>\n",
       "    </tr>\n",
       "  </thead>\n",
       "  <tbody>\n",
       "    <tr>\n",
       "      <th>0</th>\n",
       "      <td>kuliner asik punya temen @joandita sukses http...</td>\n",
       "    </tr>\n",
       "    <tr>\n",
       "      <th>1</th>\n",
       "      <td>Menikmati Kopi Dengan Pemandangan Menakjubkan ...</td>\n",
       "    </tr>\n",
       "    <tr>\n",
       "      <th>2</th>\n",
       "      <td>Pusat Wisata Kuliner Pasar Manis Purwokerto ya...</td>\n",
       "    </tr>\n",
       "    <tr>\n",
       "      <th>3</th>\n",
       "      <td>Next kuliner jogja aj,#Yogyakarta https://t.co...</td>\n",
       "    </tr>\n",
       "    <tr>\n",
       "      <th>4</th>\n",
       "      <td>Setelah cukup sukses menjual botol-botol uniqu...</td>\n",
       "    </tr>\n",
       "  </tbody>\n",
       "</table>\n",
       "</div>"
      ],
      "text/plain": [
       "                                                text\n",
       "0  kuliner asik punya temen @joandita sukses http...\n",
       "1  Menikmati Kopi Dengan Pemandangan Menakjubkan ...\n",
       "2  Pusat Wisata Kuliner Pasar Manis Purwokerto ya...\n",
       "3  Next kuliner jogja aj,#Yogyakarta https://t.co...\n",
       "4  Setelah cukup sukses menjual botol-botol uniqu..."
      ]
     },
     "execution_count": 41,
     "metadata": {},
     "output_type": "execute_result"
    }
   ],
   "source": [
    "ham_tweets.drop(['tweet_id', 'screen_name', 'time_create', 'time_grab'], axis = 1, inplace=True)\n",
    "ham_tweets.head()"
   ]
  },
  {
   "cell_type": "code",
   "execution_count": 42,
   "metadata": {},
   "outputs": [
    {
     "name": "stdout",
     "output_type": "stream",
     "text": [
      "kuliner asik punya temen @joandita sukses https://t.co/kCHx4SJ9nx\n"
     ]
    }
   ],
   "source": [
    "ham_text = ham_tweets['text']\n",
    "print(ham_text[0])"
   ]
  },
  {
   "cell_type": "code",
   "execution_count": 43,
   "metadata": {},
   "outputs": [
    {
     "name": "stdout",
     "output_type": "stream",
     "text": [
      "['kuliner', 'asik', 'punya', 'temen', '@joandita', 'sukses', 'https://t.co/kCHx4SJ9nx']\n"
     ]
    }
   ],
   "source": [
    "tokens = tokenizer.tokenize(ham_text[0])\n",
    "print(tokens)"
   ]
  },
  {
   "cell_type": "code",
   "execution_count": 44,
   "metadata": {},
   "outputs": [
    {
     "name": "stdout",
     "output_type": "stream",
     "text": [
      "50001\n",
      "99063\n"
     ]
    }
   ],
   "source": [
    "print(len(spam_text))\n",
    "print(len(ham_text))"
   ]
  },
  {
   "cell_type": "code",
   "execution_count": 45,
   "metadata": {},
   "outputs": [
    {
     "data": {
      "text/plain": [
       "{'the': True, 'quick': True}"
      ]
     },
     "execution_count": 45,
     "metadata": {},
     "output_type": "execute_result"
    }
   ],
   "source": [
    "def create_word_features(words):\n",
    "    my_dictionary = dict([(word, True) for word in words])\n",
    "    return my_dictionary\n",
    "create_word_features([\"the\", \"quick\"])"
   ]
  },
  {
   "cell_type": "code",
   "execution_count": 46,
   "metadata": {},
   "outputs": [],
   "source": [
    "ham_list = []\n",
    "spam_list = []\n",
    "\n",
    "for text in ham_text:\n",
    "    words = tokenizer.tokenize(text)\n",
    "    ham_list.append((create_word_features(words), \"ham\"))\n",
    "\n",
    "for text in spam_text:\n",
    "    words = tokenizer.tokenize(text)\n",
    "    spam_list.append((create_word_features(words), \"spam\"))"
   ]
  },
  {
   "cell_type": "code",
   "execution_count": 47,
   "metadata": {},
   "outputs": [
    {
     "name": "stdout",
     "output_type": "stream",
     "text": [
      "({'https://t.co/35ViRjibzl': True, '.': True, 'Movie': True, 'Korean': True, 'Selingkuh': True, 'Dikebon': True, 'Cabe': True, '#bokepkorea': True, '#bokepjepang': True, '@jilbabsange': True, '@Alinpenggodaâ': True, '\\x80': True, '¦': True, 'https://t.co/LOhAgfhlAq': True}, 'ham')\n",
      "({'hai': True, 'kak': True, ',': True, '@noph4': True, 'kalo': True, 'ga': True, 'keberatan': True, 'follow': True, '@Infousahaid': True, 'ya': True, 'infonya': True, 'keren': True, '2': True, 'banyak': True, 'peluang': True, 'seputar': True, 'usaha': True, 'pasti': True, 'di': True, 'Folback': True, '!': True}, 'spam')\n"
     ]
    }
   ],
   "source": [
    "print(ham_list[1000])\n",
    "print(spam_list[2000])"
   ]
  },
  {
   "cell_type": "code",
   "execution_count": 48,
   "metadata": {},
   "outputs": [
    {
     "name": "stdout",
     "output_type": "stream",
     "text": [
      "149064\n"
     ]
    }
   ],
   "source": [
    "combined_list = ham_list + spam_list\n",
    "print(len(combined_list))\n",
    "random.shuffle(combined_list)"
   ]
  },
  {
   "cell_type": "code",
   "execution_count": 49,
   "metadata": {},
   "outputs": [
    {
     "name": "stdout",
     "output_type": "stream",
     "text": [
      "149064\n",
      "104344\n",
      "44720\n"
     ]
    }
   ],
   "source": [
    "# Create a test and train section.\n",
    "\n",
    "# 70% of the data is training. 30% is test\n",
    "\n",
    "training_part = int(len(combined_list) * .7)\n",
    "\n",
    "print(len(combined_list))\n",
    "\n",
    "training_set = combined_list[:training_part]\n",
    "\n",
    "test_set =  combined_list[training_part:]\n",
    "\n",
    "print (len(training_set))\n",
    "print (len(test_set))"
   ]
  },
  {
   "cell_type": "code",
   "execution_count": 50,
   "metadata": {},
   "outputs": [
    {
     "name": "stdout",
     "output_type": "stream",
     "text": [
      "Accuracy is:  99.9932915921288\n"
     ]
    }
   ],
   "source": [
    "# Create the Naive Bayes filter\n",
    "\n",
    "classifier = NaiveBayesClassifier.train(training_set)\n",
    "\n",
    "# Find the accuracy, using the test data\n",
    "\n",
    "accuracy = nltk.classify.util.accuracy(classifier, test_set)\n",
    "\n",
    "print(\"Accuracy is: \", accuracy * 100)"
   ]
  },
  {
   "cell_type": "code",
   "execution_count": 51,
   "metadata": {},
   "outputs": [
    {
     "name": "stdout",
     "output_type": "stream",
     "text": [
      "Most Informative Features\n",
      "                     hai = True             spam : ham    =  25940.8 : 1.0\n",
      "                        = True              ham : spam   =  12189.0 : 1.0\n",
      "                       ¦ = True              ham : spam   =  12117.7 : 1.0\n",
      "                      RT = True              ham : spam   =  11390.9 : 1.0\n",
      "                   Mahir = True             spam : ham    =   4292.3 : 1.0\n",
      "                  Kursus = True             spam : ham    =   2603.5 : 1.0\n",
      "                 wawasan = True             spam : ham    =   2223.2 : 1.0\n",
      "                       \\ = True             spam : ham    =   2206.0 : 1.0\n",
      "               keberatan = True             spam : ham    =   2201.6 : 1.0\n",
      "                     550 = True             spam : ham    =   2075.1 : 1.0\n",
      "                  update = True             spam : ham    =   1796.1 : 1.0\n",
      "                 seputar = True             spam : ham    =   1547.7 : 1.0\n",
      "                  Pingin = True             spam : ham    =   1430.4 : 1.0\n",
      "                Terbukti = True             spam : ham    =   1349.8 : 1.0\n",
      "                 Ngomong = True             spam : ham    =   1333.1 : 1.0\n",
      "                   Asing = True             spam : ham    =    996.9 : 1.0\n",
      "                     Kak = True             spam : ham    =    909.4 : 1.0\n",
      "                   jodoh = True             spam : ham    =    788.6 : 1.0\n",
      "                 dapetin = True             spam : ham    =    745.0 : 1.0\n",
      "                 infonya = True             spam : ham    =    733.9 : 1.0\n",
      "                   Hallo = True             spam : ham    =    652.5 : 1.0\n",
      "                motivasi = True             spam : ham    =    645.7 : 1.0\n",
      "                    Game = True             spam : ham    =    531.6 : 1.0\n",
      "               terupdate = True             spam : ham    =    474.4 : 1.0\n",
      "                   sorry = True             spam : ham    =    473.2 : 1.0\n",
      "                     kak = True             spam : ham    =    430.0 : 1.0\n",
      "                 Belajar = True             spam : ham    =    427.1 : 1.0\n",
      "                 Membuat = True             spam : ham    =    423.5 : 1.0\n",
      "                     ini = True              ham : spam   =    371.0 : 1.0\n",
      "                    lagi = True              ham : spam   =    344.1 : 1.0\n",
      "                menambah = True             spam : ham    =    336.8 : 1.0\n",
      "                    twit = True             spam : ham    =    328.4 : 1.0\n",
      "                     PIN = True             spam : ham    =    327.6 : 1.0\n",
      "                  ganggu = True             spam : ham    =    326.5 : 1.0\n",
      "                    udah = True              ham : spam   =    321.9 : 1.0\n",
      "                      Gk = True             spam : ham    =    316.4 : 1.0\n",
      "                 peluang = True             spam : ham    =    292.9 : 1.0\n",
      "                Makassar = True             spam : ham    =    262.1 : 1.0\n",
      "               Ketagihan = True             spam : ham    =    245.1 : 1.0\n",
      "                    Info = True             spam : ham    =    244.7 : 1.0\n"
     ]
    }
   ],
   "source": [
    "classifier.show_most_informative_features(40)"
   ]
  },
  {
   "cell_type": "code",
   "execution_count": null,
   "metadata": {},
   "outputs": [],
   "source": []
  }
 ],
 "metadata": {
  "kernelspec": {
   "display_name": "Python 3",
   "language": "python",
   "name": "python3"
  },
  "language_info": {
   "codemirror_mode": {
    "name": "ipython",
    "version": 3
   },
   "file_extension": ".py",
   "mimetype": "text/x-python",
   "name": "python",
   "nbconvert_exporter": "python",
   "pygments_lexer": "ipython3",
   "version": "3.6.5"
  }
 },
 "nbformat": 4,
 "nbformat_minor": 2
}
